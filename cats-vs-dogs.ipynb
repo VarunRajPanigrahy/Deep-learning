{
  "cells": [
    {
      "metadata": {
        "_uuid": "8f2839f25d086af736a60e9eeb907d3b93b6e0e5",
        "_cell_guid": "b1076dfc-b9ad-4769-8c92-a6c4dae69d19",
        "trusted": true
      },
      "cell_type": "code",
      "source": "# This Python 3 environment comes with many helpful analytics libraries installed\n# It is defined by the kaggle/python docker image: https://github.com/kaggle/docker-python\n# For example, here's several helpful packages to load in \nimport cv2\nimport numpy as np # linear algebra\nimport pandas as pd # data processing, CSV file I/O (e.g. pd.read_csv)\nimport matplotlib.pyplot as plt\n%matplotlib inline\nimport gc\nimport random\n\n# Input data files are available in the \"../input/\" directory.\n# For example, running this (by clicking run or pressing Shift+Enter) will list the files in the input directory\n\nimport os\nprint(os.listdir(\"../input\"))\n\n# Any results you write to the current directory are saved as output.",
      "execution_count": null,
      "outputs": []
    },
    {
      "metadata": {
        "_cell_guid": "79c7e3d0-c299-4dcb-8224-4455121ee9b0",
        "_uuid": "d629ff2d2480ee46fbb7e2d37f6b5fab8052498a",
        "trusted": true
      },
      "cell_type": "code",
      "source": "train_dir = '../input/train'\ntest_dir = '../input/test'\ntrain_dogs = ['../input/train/{}'.format(i) for i in os.listdir(train_dir) if 'dog' in i]\ntrain_cats = ['../input/train/{}'.format(i) for i in os.listdir(train_dir) if 'cat' in i]\ntest_images = ['../input/test/{}'.format(i) for i in os.listdir(test_dir)]\nbatch = train_dogs[0:3000]+train_cats[0:3000]\nrandom.shuffle(batch)\n\n\n\n\n\n\n\n\n\n\n",
      "execution_count": null,
      "outputs": []
    },
    {
      "metadata": {
        "trusted": true,
        "_uuid": "0be85b8c4b38b6d513e7e7e2b056f292427c21a9"
      },
      "cell_type": "code",
      "source": "import matplotlib.image as mpimg\nfor ima in batch[0:10]:\n    img = mpimg.imread(ima)\n    imgplot = plt.imshow(img)\n    plt.show()",
      "execution_count": null,
      "outputs": []
    },
    {
      "metadata": {
        "trusted": true,
        "_uuid": "089659d0e2c5f67a6f92ad566bcc2f27f1959dc5"
      },
      "cell_type": "code",
      "source": "def process(image_list):\n    X = []\n    y = []\n    for image in image_list:\n        X.append(cv2.resize(cv2.imread(image,cv2.IMREAD_COLOR),(150,150),interpolation=cv2.INTER_CUBIC))\n        if('dog' in image):\n            y.append(1)\n        else:y.append(0)\n    return X,y\n",
      "execution_count": null,
      "outputs": []
    },
    {
      "metadata": {
        "trusted": true,
        "_uuid": "53f169b7a0bedc4f742c327603113956205d68df"
      },
      "cell_type": "code",
      "source": "X,y = process(batch)\nprint(len(X))",
      "execution_count": null,
      "outputs": []
    },
    {
      "metadata": {
        "trusted": true,
        "_uuid": "9a1bd197f0ae15fdca8c50044ac5c5a69f71e427"
      },
      "cell_type": "code",
      "source": "print(X[0])",
      "execution_count": null,
      "outputs": []
    },
    {
      "metadata": {
        "trusted": true,
        "_uuid": "8f87a7d664cfed3ff4a109c1c916245f0a43bca3"
      },
      "cell_type": "code",
      "source": "X = np.array(X)\ny = np.array(y)\nX[0].shape",
      "execution_count": null,
      "outputs": []
    },
    {
      "metadata": {
        "trusted": true,
        "_uuid": "40dfdd58bbe7c889a6030856ee9aee62d900c797"
      },
      "cell_type": "code",
      "source": "from sklearn.model_selection import train_test_split\nX_train,X_val,y_train,y_val = train_test_split(X,y,test_size=0.2)\n",
      "execution_count": null,
      "outputs": []
    },
    {
      "metadata": {
        "trusted": true,
        "_uuid": "e8578297bed9eb59ddc23dd26ca86f4a1b875212"
      },
      "cell_type": "code",
      "source": "batch_size = 32\nn_train = len(X_train)\nn_test = len(X_val)",
      "execution_count": null,
      "outputs": []
    },
    {
      "metadata": {
        "trusted": true,
        "_uuid": "09a34c0544d382cb81faa87db21dd0aa3498a6a1"
      },
      "cell_type": "code",
      "source": "from keras import layers\nfrom keras import models\nfrom keras import optimizers\nfrom keras.preprocessing.image import ImageDataGenerator\nfrom keras.preprocessing.image import img_to_array,load_img",
      "execution_count": null,
      "outputs": []
    },
    {
      "metadata": {
        "trusted": true,
        "_uuid": "d78e31e6e8e8d821b0973e76139c86d8f2495e6a"
      },
      "cell_type": "code",
      "source": "model = models.Sequential()\nmodel.add(layers.Conv2D(32,(3,3),activation = 'relu',input_shape=(150,150,3)))\nmodel.add(layers.MaxPooling2D((2,2)))\nmodel.add(layers.Conv2D(64,(3,3),activation = 'relu'))\nmodel.add(layers.MaxPooling2D((2,2)))\nmodel.add(layers.Conv2D(128,(3,3),activation = 'relu'))\nmodel.add(layers.MaxPooling2D((2,2)))\nmodel.add(layers.Conv2D(128,(3,3),activation = 'relu'))\nmodel.add(layers.MaxPooling2D((2,2)))\nmodel.add(layers.Flatten())\nmodel.add(layers.Dropout(0.5))\nmodel.add(layers.Dense(512,activation = 'relu'))\nmodel.add(layers.Dense(1,activation = 'relu'))\nmodel.summary()\n\n\n\n\n\n\n\n\n\n\n\n",
      "execution_count": null,
      "outputs": []
    },
    {
      "metadata": {
        "trusted": true,
        "_uuid": "7ef0feb443ce4775b065fd7c8f19d3b7ff63993d"
      },
      "cell_type": "code",
      "source": "model.compile(loss='binary_crossentropy', optimizer=optimizers.RMSprop(lr=0.0001), metrics = ['accuracy'])\n",
      "execution_count": null,
      "outputs": []
    },
    {
      "metadata": {
        "trusted": true,
        "_uuid": "60a9343d851328ddb300bde95849e4938ddf6413"
      },
      "cell_type": "code",
      "source": "train_data = ImageDataGenerator(rescale=1./255)\ntrain_generator = train_data.flow(X_train,y_train,batch_size=batch_size)\ntest_generator = train_data.flow(X_val,y_val,batch_size=batch_size)\n",
      "execution_count": null,
      "outputs": []
    },
    {
      "metadata": {
        "trusted": true,
        "_uuid": "0c3974003b0ccb0655ba1ceb39ea91c810537968"
      },
      "cell_type": "code",
      "source": "history=model.fit_generator(train_generator,epochs=20,steps_per_epoch=100)",
      "execution_count": null,
      "outputs": []
    },
    {
      "metadata": {
        "trusted": true,
        "_uuid": "d0efbcbbcaeb1aef4c3ae03000e118b16426783e"
      },
      "cell_type": "code",
      "source": "X_test,y_test = process(test_images[0:15])\nx = np.array(X_test)\ntest_datagen = ImageDataGenerator(rescale=1./255)\n\n\n\n\n\n\n\n",
      "execution_count": null,
      "outputs": []
    },
    {
      "metadata": {
        "trusted": true,
        "_uuid": "3718c2633c50ab36e0a7e47dbacdf57e7cfded2c"
      },
      "cell_type": "code",
      "source": "i=0\nlabels=[]\nplt.figure(figsize=(30,20))\nfor batch in test_datagen.flow(x,batch_size=1):\n    pred = model.predict(batch)\n    if(pred>=0.5):labels.append('dog')\n    else:labels.append('cat')\n    \n    plt.title(labels[i])\n    imgplot=plt.imshow(batch[0])\n    i+=1\n    if(i==15):break\n    plt.show()",
      "execution_count": null,
      "outputs": []
    },
    {
      "metadata": {
        "trusted": true,
        "_uuid": "6e307c1b5cae62e8cde4de66702f01048d516d47"
      },
      "cell_type": "code",
      "source": "",
      "execution_count": null,
      "outputs": []
    }
  ],
  "metadata": {
    "kernelspec": {
      "display_name": "Python 3",
      "language": "python",
      "name": "python3"
    },
    "language_info": {
      "name": "python",
      "version": "3.6.6",
      "mimetype": "text/x-python",
      "codemirror_mode": {
        "name": "ipython",
        "version": 3
      },
      "pygments_lexer": "ipython3",
      "nbconvert_exporter": "python",
      "file_extension": ".py"
    }
  },
  "nbformat": 4,
  "nbformat_minor": 1
}