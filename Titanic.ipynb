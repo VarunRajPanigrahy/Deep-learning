{
 "cells": [
  {
   "cell_type": "code",
   "execution_count": 1,
   "metadata": {},
   "outputs": [],
   "source": [
    "import numpy as np\n",
    "import pandas as pd\n",
    "import matplotlib.pyplot as plt\n",
    "%matplotlib inline"
   ]
  },
  {
   "cell_type": "code",
   "execution_count": 2,
   "metadata": {},
   "outputs": [],
   "source": [
    "dataset = pd.read_csv('/home/varun/deep learning/Titanic/train.csv')"
   ]
  },
  {
   "cell_type": "code",
   "execution_count": 3,
   "metadata": {},
   "outputs": [],
   "source": [
    "x = dataset[dataset.columns.difference(['Survived','Cabin','PassengerId','Name','Ticket'])]\n",
    "y = dataset['Survived']\n",
    "x = x.fillna(x.mean())\n",
    "x = x.replace(np.nan,\"S\",regex=True)"
   ]
  },
  {
   "cell_type": "code",
   "execution_count": 4,
   "metadata": {},
   "outputs": [
    {
     "name": "stderr",
     "output_type": "stream",
     "text": [
      "Using TensorFlow backend.\n"
     ]
    }
   ],
   "source": [
    "from keras.models import Sequential\n",
    "from keras.layers import Dense\n",
    "from keras.optimizers import Adam\n",
    "from sklearn.model_selection import train_test_split\n"
   ]
  },
  {
   "cell_type": "code",
   "execution_count": 5,
   "metadata": {},
   "outputs": [
    {
     "name": "stdout",
     "output_type": "stream",
     "text": [
      "Empty DataFrame\n",
      "Columns: [Age, Embarked, Fare, Parch, Pclass, Sex, SibSp]\n",
      "Index: []\n"
     ]
    }
   ],
   "source": [
    "#print(x['Age'])\n",
    "X_train,x_test,Y_train,y_test = train_test_split(x,y,test_size=0.05)\n",
    "print(X_train[X_train['Embarked'].isnull()]) #To get values that are null in a column(Important)\n",
    "X_train=pd.get_dummies(X_train,prefix=['Embarked','Sex'],drop_first=True)\n",
    "x_test=pd.get_dummies(x_test,prefix=['Embarked','Sex'],drop_first=True)\n",
    "X_train=(X_train-X_train.mean())/X_train.std()\n",
    "x_test=(x_test-x_test.mean())/x_test.std()\n"
   ]
  },
  {
   "cell_type": "code",
   "execution_count": 6,
   "metadata": {},
   "outputs": [],
   "source": [
    "X_train = X_train.values\n",
    "x_test = x_test.values\n",
    "y_test = y_test.values\n",
    "Y_train = Y_train.values"
   ]
  },
  {
   "cell_type": "code",
   "execution_count": 7,
   "metadata": {
    "scrolled": true
   },
   "outputs": [
    {
     "name": "stdout",
     "output_type": "stream",
     "text": [
      "(846,)\n",
      "(846, 2)\n"
     ]
    }
   ],
   "source": [
    "from keras.utils import to_categorical\n",
    "print(Y_train.shape)\n",
    "Y_train = to_categorical(Y_train)\n",
    "y_test = to_categorical(y_test)\n",
    "print(Y_train.shape)\n"
   ]
  },
  {
   "cell_type": "code",
   "execution_count": 14,
   "metadata": {},
   "outputs": [
    {
     "name": "stdout",
     "output_type": "stream",
     "text": [
      "(846, 8)\n",
      "Train on 846 samples, validate on 45 samples\n",
      "Epoch 1/100\n",
      " - 0s - loss: 0.6874 - acc: 0.5887 - val_loss: 0.6791 - val_acc: 0.6444\n",
      "Epoch 2/100\n",
      " - 0s - loss: 0.6662 - acc: 0.6572 - val_loss: 0.6539 - val_acc: 0.7111\n",
      "Epoch 3/100\n",
      " - 0s - loss: 0.6266 - acc: 0.7388 - val_loss: 0.6153 - val_acc: 0.7556\n",
      "Epoch 4/100\n",
      " - 0s - loss: 0.5748 - acc: 0.7979 - val_loss: 0.5729 - val_acc: 0.6889\n",
      "Epoch 5/100\n",
      " - 0s - loss: 0.5258 - acc: 0.8097 - val_loss: 0.5432 - val_acc: 0.6889\n",
      "Epoch 6/100\n",
      " - 0s - loss: 0.4920 - acc: 0.8132 - val_loss: 0.5241 - val_acc: 0.6889\n",
      "Epoch 7/100\n",
      " - 0s - loss: 0.4707 - acc: 0.8132 - val_loss: 0.5155 - val_acc: 0.6667\n",
      "Epoch 8/100\n",
      " - 0s - loss: 0.4576 - acc: 0.8097 - val_loss: 0.5106 - val_acc: 0.7111\n",
      "Epoch 9/100\n",
      " - 0s - loss: 0.4497 - acc: 0.8073 - val_loss: 0.5094 - val_acc: 0.6889\n",
      "Epoch 10/100\n",
      " - 0s - loss: 0.4442 - acc: 0.8050 - val_loss: 0.5077 - val_acc: 0.7111\n",
      "Epoch 11/100\n",
      " - 0s - loss: 0.4399 - acc: 0.8050 - val_loss: 0.5090 - val_acc: 0.6889\n",
      "Epoch 12/100\n",
      " - 0s - loss: 0.4370 - acc: 0.8073 - val_loss: 0.5085 - val_acc: 0.7111\n",
      "Epoch 13/100\n",
      " - 0s - loss: 0.4340 - acc: 0.8121 - val_loss: 0.5092 - val_acc: 0.7111\n",
      "Epoch 14/100\n",
      " - 0s - loss: 0.4319 - acc: 0.8097 - val_loss: 0.5079 - val_acc: 0.7111\n",
      "Epoch 15/100\n",
      " - 0s - loss: 0.4293 - acc: 0.8132 - val_loss: 0.5063 - val_acc: 0.6889\n",
      "Epoch 16/100\n",
      " - 0s - loss: 0.4274 - acc: 0.8156 - val_loss: 0.5051 - val_acc: 0.7111\n",
      "Epoch 17/100\n",
      " - 0s - loss: 0.4257 - acc: 0.8144 - val_loss: 0.5040 - val_acc: 0.7111\n",
      "Epoch 18/100\n",
      " - 0s - loss: 0.4242 - acc: 0.8144 - val_loss: 0.5042 - val_acc: 0.7111\n",
      "Epoch 19/100\n",
      " - 0s - loss: 0.4230 - acc: 0.8156 - val_loss: 0.5029 - val_acc: 0.7111\n",
      "Epoch 20/100\n",
      " - 0s - loss: 0.4219 - acc: 0.8121 - val_loss: 0.5059 - val_acc: 0.7111\n",
      "Epoch 21/100\n",
      " - 0s - loss: 0.4203 - acc: 0.8156 - val_loss: 0.5041 - val_acc: 0.7111\n",
      "Epoch 22/100\n",
      " - 0s - loss: 0.4193 - acc: 0.8168 - val_loss: 0.5027 - val_acc: 0.6889\n",
      "Epoch 23/100\n",
      " - 0s - loss: 0.4183 - acc: 0.8168 - val_loss: 0.5017 - val_acc: 0.6889\n",
      "Epoch 24/100\n",
      " - 0s - loss: 0.4175 - acc: 0.8191 - val_loss: 0.4996 - val_acc: 0.6889\n",
      "Epoch 25/100\n",
      " - 0s - loss: 0.4166 - acc: 0.8168 - val_loss: 0.5024 - val_acc: 0.6889\n",
      "Epoch 26/100\n",
      " - 0s - loss: 0.4156 - acc: 0.8180 - val_loss: 0.4999 - val_acc: 0.6889\n",
      "Epoch 27/100\n",
      " - 0s - loss: 0.4150 - acc: 0.8203 - val_loss: 0.4999 - val_acc: 0.6889\n",
      "Epoch 28/100\n",
      " - 0s - loss: 0.4134 - acc: 0.8168 - val_loss: 0.5002 - val_acc: 0.6889\n",
      "Epoch 29/100\n",
      " - 0s - loss: 0.4139 - acc: 0.8180 - val_loss: 0.4983 - val_acc: 0.6889\n",
      "Epoch 30/100\n",
      " - 0s - loss: 0.4124 - acc: 0.8191 - val_loss: 0.4999 - val_acc: 0.6889\n",
      "Epoch 31/100\n",
      " - 0s - loss: 0.4113 - acc: 0.8215 - val_loss: 0.4987 - val_acc: 0.6889\n",
      "Epoch 32/100\n",
      " - 0s - loss: 0.4112 - acc: 0.8215 - val_loss: 0.5000 - val_acc: 0.6889\n",
      "Epoch 33/100\n",
      " - 0s - loss: 0.4104 - acc: 0.8227 - val_loss: 0.4971 - val_acc: 0.6889\n",
      "Epoch 34/100\n",
      " - 0s - loss: 0.4109 - acc: 0.8251 - val_loss: 0.4962 - val_acc: 0.6889\n",
      "Epoch 35/100\n",
      " - 0s - loss: 0.4102 - acc: 0.8251 - val_loss: 0.4972 - val_acc: 0.6889\n",
      "Epoch 36/100\n",
      " - 0s - loss: 0.4088 - acc: 0.8262 - val_loss: 0.4945 - val_acc: 0.6889\n",
      "Epoch 37/100\n",
      " - 0s - loss: 0.4086 - acc: 0.8251 - val_loss: 0.4945 - val_acc: 0.6889\n",
      "Epoch 38/100\n",
      " - 0s - loss: 0.4089 - acc: 0.8251 - val_loss: 0.4916 - val_acc: 0.6889\n",
      "Epoch 39/100\n",
      " - 0s - loss: 0.4073 - acc: 0.8274 - val_loss: 0.4963 - val_acc: 0.6889\n",
      "Epoch 40/100\n",
      " - 0s - loss: 0.4075 - acc: 0.8239 - val_loss: 0.4934 - val_acc: 0.6889\n",
      "Epoch 41/100\n",
      " - 0s - loss: 0.4066 - acc: 0.8239 - val_loss: 0.4936 - val_acc: 0.6889\n",
      "Epoch 42/100\n",
      " - 0s - loss: 0.4060 - acc: 0.8262 - val_loss: 0.4927 - val_acc: 0.6889\n",
      "Epoch 43/100\n",
      " - 0s - loss: 0.4061 - acc: 0.8262 - val_loss: 0.4924 - val_acc: 0.6889\n",
      "Epoch 44/100\n",
      " - 0s - loss: 0.4054 - acc: 0.8274 - val_loss: 0.4934 - val_acc: 0.6889\n",
      "Epoch 45/100\n",
      " - 0s - loss: 0.4048 - acc: 0.8298 - val_loss: 0.4931 - val_acc: 0.6889\n",
      "Epoch 46/100\n",
      " - 0s - loss: 0.4041 - acc: 0.8286 - val_loss: 0.4918 - val_acc: 0.7111\n",
      "Epoch 47/100\n",
      " - 0s - loss: 0.4041 - acc: 0.8333 - val_loss: 0.4900 - val_acc: 0.7111\n",
      "Epoch 48/100\n",
      " - 0s - loss: 0.4036 - acc: 0.8286 - val_loss: 0.4902 - val_acc: 0.7111\n",
      "Epoch 49/100\n",
      " - 0s - loss: 0.4032 - acc: 0.8322 - val_loss: 0.4901 - val_acc: 0.7111\n",
      "Epoch 50/100\n",
      " - 0s - loss: 0.4030 - acc: 0.8298 - val_loss: 0.4924 - val_acc: 0.7111\n",
      "Epoch 51/100\n",
      " - 0s - loss: 0.4028 - acc: 0.8310 - val_loss: 0.4916 - val_acc: 0.7111\n",
      "Epoch 52/100\n",
      " - 0s - loss: 0.4019 - acc: 0.8333 - val_loss: 0.4896 - val_acc: 0.7111\n",
      "Epoch 53/100\n",
      " - 0s - loss: 0.4023 - acc: 0.8345 - val_loss: 0.4904 - val_acc: 0.7111\n",
      "Epoch 54/100\n",
      " - 0s - loss: 0.4019 - acc: 0.8333 - val_loss: 0.4882 - val_acc: 0.7111\n",
      "Epoch 55/100\n",
      " - 0s - loss: 0.4012 - acc: 0.8345 - val_loss: 0.4886 - val_acc: 0.7111\n",
      "Epoch 56/100\n",
      " - 0s - loss: 0.4009 - acc: 0.8369 - val_loss: 0.4902 - val_acc: 0.7111\n",
      "Epoch 57/100\n",
      " - 0s - loss: 0.4006 - acc: 0.8322 - val_loss: 0.4891 - val_acc: 0.7111\n",
      "Epoch 58/100\n",
      " - 0s - loss: 0.4000 - acc: 0.8381 - val_loss: 0.4880 - val_acc: 0.7111\n",
      "Epoch 59/100\n",
      " - 0s - loss: 0.4001 - acc: 0.8357 - val_loss: 0.4875 - val_acc: 0.7111\n",
      "Epoch 60/100\n",
      " - 0s - loss: 0.3995 - acc: 0.8369 - val_loss: 0.4890 - val_acc: 0.7111\n",
      "Epoch 61/100\n",
      " - 0s - loss: 0.3997 - acc: 0.8369 - val_loss: 0.4900 - val_acc: 0.7111\n",
      "Epoch 62/100\n",
      " - 0s - loss: 0.3993 - acc: 0.8392 - val_loss: 0.4894 - val_acc: 0.7111\n",
      "Epoch 63/100\n",
      " - 0s - loss: 0.3994 - acc: 0.8345 - val_loss: 0.4868 - val_acc: 0.7333\n",
      "Epoch 64/100\n",
      " - 0s - loss: 0.3983 - acc: 0.8381 - val_loss: 0.4870 - val_acc: 0.7111\n",
      "Epoch 65/100\n",
      " - 0s - loss: 0.3983 - acc: 0.8381 - val_loss: 0.4888 - val_acc: 0.7333\n",
      "Epoch 66/100\n",
      " - 0s - loss: 0.3986 - acc: 0.8369 - val_loss: 0.4885 - val_acc: 0.7111\n",
      "Epoch 67/100\n",
      " - 0s - loss: 0.3980 - acc: 0.8381 - val_loss: 0.4871 - val_acc: 0.7333\n",
      "Epoch 68/100\n",
      " - 0s - loss: 0.3985 - acc: 0.8333 - val_loss: 0.4860 - val_acc: 0.7333\n",
      "Epoch 69/100\n",
      " - 0s - loss: 0.3974 - acc: 0.8345 - val_loss: 0.4867 - val_acc: 0.7333\n",
      "Epoch 70/100\n",
      " - 0s - loss: 0.3978 - acc: 0.8333 - val_loss: 0.4910 - val_acc: 0.7333\n",
      "Epoch 71/100\n",
      " - 0s - loss: 0.3980 - acc: 0.8369 - val_loss: 0.4904 - val_acc: 0.7111\n",
      "Epoch 72/100\n",
      " - 0s - loss: 0.3969 - acc: 0.8357 - val_loss: 0.4862 - val_acc: 0.7333\n",
      "Epoch 73/100\n",
      " - 0s - loss: 0.3969 - acc: 0.8322 - val_loss: 0.4883 - val_acc: 0.7333\n",
      "Epoch 74/100\n",
      " - 0s - loss: 0.3974 - acc: 0.8345 - val_loss: 0.4871 - val_acc: 0.7333\n",
      "Epoch 75/100\n",
      " - 0s - loss: 0.3971 - acc: 0.8345 - val_loss: 0.4913 - val_acc: 0.7333\n",
      "Epoch 76/100\n",
      " - 0s - loss: 0.3963 - acc: 0.8369 - val_loss: 0.4884 - val_acc: 0.7556\n",
      "Epoch 77/100\n",
      " - 0s - loss: 0.3960 - acc: 0.8369 - val_loss: 0.4895 - val_acc: 0.7333\n",
      "Epoch 78/100\n",
      " - 0s - loss: 0.3961 - acc: 0.8357 - val_loss: 0.4883 - val_acc: 0.7111\n",
      "Epoch 79/100\n",
      " - 0s - loss: 0.3962 - acc: 0.8333 - val_loss: 0.4888 - val_acc: 0.7556\n",
      "Epoch 80/100\n",
      " - 0s - loss: 0.3958 - acc: 0.8357 - val_loss: 0.4883 - val_acc: 0.7333\n",
      "Epoch 81/100\n",
      " - 0s - loss: 0.3957 - acc: 0.8369 - val_loss: 0.4888 - val_acc: 0.7556\n",
      "Epoch 82/100\n",
      " - 0s - loss: 0.3953 - acc: 0.8392 - val_loss: 0.4908 - val_acc: 0.7556\n",
      "Epoch 83/100\n",
      " - 0s - loss: 0.3949 - acc: 0.8392 - val_loss: 0.4906 - val_acc: 0.7556\n",
      "Epoch 84/100\n",
      " - 0s - loss: 0.3950 - acc: 0.8357 - val_loss: 0.4904 - val_acc: 0.7333\n",
      "Epoch 85/100\n",
      " - 0s - loss: 0.3946 - acc: 0.8369 - val_loss: 0.4883 - val_acc: 0.7333\n",
      "Epoch 86/100\n",
      " - 0s - loss: 0.3948 - acc: 0.8369 - val_loss: 0.4888 - val_acc: 0.7333\n",
      "Epoch 87/100\n",
      " - 0s - loss: 0.3947 - acc: 0.8357 - val_loss: 0.4887 - val_acc: 0.7333\n",
      "Epoch 88/100\n",
      " - 0s - loss: 0.3948 - acc: 0.8345 - val_loss: 0.4894 - val_acc: 0.7333\n",
      "Epoch 89/100\n",
      " - 0s - loss: 0.3945 - acc: 0.8333 - val_loss: 0.4910 - val_acc: 0.7111\n",
      "Epoch 90/100\n",
      " - 0s - loss: 0.3939 - acc: 0.8357 - val_loss: 0.4932 - val_acc: 0.7111\n",
      "Epoch 91/100\n",
      " - 0s - loss: 0.3940 - acc: 0.8357 - val_loss: 0.4918 - val_acc: 0.7111\n",
      "Epoch 92/100\n",
      " - 0s - loss: 0.3936 - acc: 0.8369 - val_loss: 0.4919 - val_acc: 0.7333\n",
      "Epoch 93/100\n",
      " - 0s - loss: 0.3934 - acc: 0.8369 - val_loss: 0.4938 - val_acc: 0.7111\n",
      "Epoch 94/100\n",
      " - 0s - loss: 0.3933 - acc: 0.8369 - val_loss: 0.4908 - val_acc: 0.7333\n",
      "Epoch 95/100\n",
      " - 0s - loss: 0.3937 - acc: 0.8357 - val_loss: 0.4947 - val_acc: 0.7333\n",
      "Epoch 96/100\n",
      " - 0s - loss: 0.3928 - acc: 0.8357 - val_loss: 0.4923 - val_acc: 0.7556\n"
     ]
    },
    {
     "name": "stdout",
     "output_type": "stream",
     "text": [
      "Epoch 97/100\n",
      " - 0s - loss: 0.3931 - acc: 0.8369 - val_loss: 0.4952 - val_acc: 0.7333\n",
      "Epoch 98/100\n",
      " - 0s - loss: 0.3932 - acc: 0.8357 - val_loss: 0.4943 - val_acc: 0.7333\n",
      "Epoch 99/100\n",
      " - 0s - loss: 0.3926 - acc: 0.8369 - val_loss: 0.4946 - val_acc: 0.7333\n",
      "Epoch 100/100\n",
      " - 0s - loss: 0.3923 - acc: 0.8345 - val_loss: 0.4959 - val_acc: 0.7333\n"
     ]
    },
    {
     "data": {
      "text/plain": [
       "<keras.callbacks.History at 0x7f57d4263470>"
      ]
     },
     "execution_count": 14,
     "metadata": {},
     "output_type": "execute_result"
    }
   ],
   "source": [
    "print(X_train.shape)\n",
    "model = Sequential()\n",
    "model.add(Dense(8,activation='relu',kernel_initializer='normal'))\n",
    "model.add(Dense(2,activation='softmax',kernel_initializer='normal'))\n",
    "model.compile(loss='categorical_crossentropy',optimizer='adam',metrics=['accuracy'])\n",
    "model.fit(X_train,Y_train,validation_data=(x_test,y_test),epochs=100,batch_size=25,verbose=2)"
   ]
  },
  {
   "cell_type": "code",
   "execution_count": 9,
   "metadata": {},
   "outputs": [],
   "source": [
    "#Testing -\n"
   ]
  },
  {
   "cell_type": "code",
   "execution_count": 18,
   "metadata": {},
   "outputs": [],
   "source": [
    "testset = pd.read_csv('/home/varun/deep learning/Titanic/test.csv')\n",
    "t = testset[testset.columns.difference(['Survived','Cabin','PassengerId','Name','Ticket'])]\n",
    "t = t.fillna(x.mean())\n",
    "t = t.replace(np.nan,\"S\",regex=True)\n",
    "t=pd.get_dummies(t,prefix=['Embarked','Sex'],drop_first=True)\n",
    "t=(t-t.mean())/t.std()\n",
    "t=t.values"
   ]
  },
  {
   "cell_type": "code",
   "execution_count": 19,
   "metadata": {},
   "outputs": [
    {
     "name": "stdout",
     "output_type": "stream",
     "text": [
      "(418, 8)\n"
     ]
    }
   ],
   "source": [
    "print(t.shape)"
   ]
  },
  {
   "cell_type": "code",
   "execution_count": 20,
   "metadata": {},
   "outputs": [],
   "source": [
    "prediction=model.predict_classes(t)"
   ]
  },
  {
   "cell_type": "code",
   "execution_count": 21,
   "metadata": {},
   "outputs": [],
   "source": [
    "prediction = pd.DataFrame(prediction, columns=['predictions']).to_csv('prediction.csv')"
   ]
  },
  {
   "cell_type": "code",
   "execution_count": null,
   "metadata": {},
   "outputs": [],
   "source": []
  }
 ],
 "metadata": {
  "kernelspec": {
   "display_name": "Python 3",
   "language": "python",
   "name": "python3"
  },
  "language_info": {
   "codemirror_mode": {
    "name": "ipython",
    "version": 3
   },
   "file_extension": ".py",
   "mimetype": "text/x-python",
   "name": "python",
   "nbconvert_exporter": "python",
   "pygments_lexer": "ipython3",
   "version": "3.6.7"
  }
 },
 "nbformat": 4,
 "nbformat_minor": 2
}
